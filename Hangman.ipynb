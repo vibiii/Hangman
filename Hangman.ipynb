{
 "cells": [
  {
   "cell_type": "code",
   "execution_count": 1,
   "metadata": {},
   "outputs": [],
   "source": [
    "# Install random_word\n",
    "# !pip install random_word\n"
   ]
  },
  {
   "cell_type": "code",
   "execution_count": 15,
   "metadata": {},
   "outputs": [],
   "source": [
    "# Make the computer choose a random word which length is minimum 5\n",
    "from random_word import RandomWords\n",
    "\n",
    "def word():\n",
    "    r=RandomWords()\n",
    "    word=r.get_random_word(minLength = 5, hasDictionaryDef=\"true\").upper()\n",
    "    for letter in word:\n",
    "        if letter not in [chr(i) for i in range(97,123)]:\n",
    "            return word\n",
    "        else:\n",
    "            word()\n",
    "word = word()"
   ]
  },
  {
   "cell_type": "code",
   "execution_count": 16,
   "metadata": {},
   "outputs": [
    {
     "name": "stdout",
     "output_type": "stream",
     "text": [
      "{'U', 'B', 'A', 'I', 'E', 'L', 'D'}\n"
     ]
    }
   ],
   "source": [
    "# Creation of a set that contains the unique letters of the word\n",
    "word_set = set(word)\n",
    "print(word_set)"
   ]
  },
  {
   "cell_type": "code",
   "execution_count": 17,
   "metadata": {},
   "outputs": [
    {
     "name": "stdout",
     "output_type": "stream",
     "text": [
      "7\n"
     ]
    }
   ],
   "source": [
    "# Creation of a variable that represents the number of letters to find\n",
    "nbr_to_find=len(word_set)\n",
    "print(nbr_to_find)"
   ]
  },
  {
   "cell_type": "code",
   "execution_count": 18,
   "metadata": {},
   "outputs": [
    {
     "name": "stdout",
     "output_type": "stream",
     "text": [
      "['A', 'U', 'D', 'I', 'B', 'L', 'E']\n"
     ]
    }
   ],
   "source": [
    "# Creation of a list to represent the word\n",
    "word_lst = list(word)\n",
    "print(word_lst)"
   ]
  },
  {
   "cell_type": "code",
   "execution_count": 19,
   "metadata": {},
   "outputs": [],
   "source": [
    "# Creation of the player's variables : number of letters found, number of errors, the list that represent the player's result\n",
    "letters_found=0\n",
    "nbr_errors=0\n",
    "player_lst = ['_' for i in word_lst]\n",
    "body_lost=[]"
   ]
  },
  {
   "cell_type": "code",
   "execution_count": 20,
   "metadata": {},
   "outputs": [],
   "source": [
    "# Creation of a list with the body parts of the hangman\n",
    "body=['head', 'body', 'left arm', 'right arm', 'left leg', 'right leg']"
   ]
  },
  {
   "cell_type": "code",
   "execution_count": 21,
   "metadata": {},
   "outputs": [],
   "source": [
    "# Creation of a function that asks the player to choose a letter\n",
    "def player_choice():\n",
    "    choice = input('Enter your letter choice: ')\n",
    "    if choice.isalpha() == True and len(choice)==1:\n",
    "        return choice.upper()\n",
    "    else :\n",
    "        print('You must enter only ONE LETTER')\n",
    "        player_choice()\n"
   ]
  },
  {
   "cell_type": "code",
   "execution_count": 22,
   "metadata": {},
   "outputs": [],
   "source": [
    "# Creation of a function that checks if the choosen letter is in the word\n",
    "\n",
    "def check():\n",
    "    x = player_choice()\n",
    "    if x in word_lst:\n",
    "        for i,j in enumerate(word_lst):\n",
    "            if x == j:\n",
    "                player_lst[i]=x                \n",
    "        print(' '.join(player_lst))\n",
    "        print(\"Well done\"+'\\n')\n",
    "        global letters_found\n",
    "        letters_found += 1\n",
    "    else:\n",
    "        global nbr_errors\n",
    "        nbr_errors+=1\n",
    "        body_lost.append(body[nbr_errors-1])\n",
    "        print(\"Too bad...you lost your \" + str(body_lost[-1]))\n",
    "        print(\"So far you have lost your \" + ', '.join(body_lost)+'\\n')\n"
   ]
  },
  {
   "cell_type": "code",
   "execution_count": 23,
   "metadata": {},
   "outputs": [
    {
     "name": "stdout",
     "output_type": "stream",
     "text": [
      "Let's play ! Here is the word you need to find:\n",
      "_ _ _ _ _ _ _\n",
      "Enter your letter choice: E\n",
      "_ _ _ _ _ _ E\n",
      "Well done\n",
      "\n",
      "Enter your letter choice: L\n",
      "_ _ _ _ _ L E\n",
      "Well done\n",
      "\n",
      "Enter your letter choice: I\n",
      "_ _ _ I _ L E\n",
      "Well done\n",
      "\n",
      "Enter your letter choice: A\n",
      "A _ _ I _ L E\n",
      "Well done\n",
      "\n",
      "Enter your letter choice: C\n",
      "Too bad...you lost your head\n",
      "So far you have lost your head\n",
      "\n",
      "Enter your letter choice: B\n",
      "A _ _ I B L E\n",
      "Well done\n",
      "\n",
      "Enter your letter choice: U\n",
      "A U _ I B L E\n",
      "Well done\n",
      "\n",
      "Enter your letter choice: D\n",
      "A U D I B L E\n",
      "Well done\n",
      "\n",
      "Congratulations you found it !!\n"
     ]
    }
   ],
   "source": [
    "# Execution of the game\n",
    "print(\"Let's play ! Here is the word you need to find:\")\n",
    "print(' '.join(player_lst))\n",
    "while nbr_errors < len(body) and letters_found < len(word_set):\n",
    "    check()\n",
    "if nbr_errors==len(body):\n",
    "    print(\"YOU ARE DEAD !!! The world to find was \" + ' '.join(word_lst) )\n",
    "else:\n",
    "    print(\"Congratulations you found it !!\")"
   ]
  },
  {
   "cell_type": "code",
   "execution_count": null,
   "metadata": {},
   "outputs": [],
   "source": []
  }
 ],
 "metadata": {
  "kernelspec": {
   "display_name": "Python 3",
   "language": "python",
   "name": "python3"
  },
  "language_info": {
   "codemirror_mode": {
    "name": "ipython",
    "version": 3
   },
   "file_extension": ".py",
   "mimetype": "text/x-python",
   "name": "python",
   "nbconvert_exporter": "python",
   "pygments_lexer": "ipython3",
   "version": "3.7.4"
  }
 },
 "nbformat": 4,
 "nbformat_minor": 2
}
